{
 "cells": [
  {
   "cell_type": "markdown",
   "metadata": {},
   "source": [
    "## Вступ до  Обєктно-орієнтованого рпограмування\n",
    "- класи це обстрація а обєкт це конкретне вираження відповідно до класу\n",
    "- ми будемо створювати і нарощувати наш клас у файлі а потім імпортувати його до ноутбука та дивитись як код буде працювати\n",
    "- назви класів завжди починаються з великої букви"
   ]
  },
  {
   "cell_type": "code",
   "execution_count": 4,
   "metadata": {},
   "outputs": [
    {
     "ename": "ModuleNotFoundError",
     "evalue": "No module named 'my_class'",
     "output_type": "error",
     "traceback": [
      "\u001b[1;31m---------------------------------------------------------------------------\u001b[0m",
      "\u001b[1;31mModuleNotFoundError\u001b[0m                       Traceback (most recent call last)",
      "Cell \u001b[1;32mIn[4], line 1\u001b[0m\n\u001b[1;32m----> 1\u001b[0m \u001b[38;5;28;01mfrom\u001b[39;00m \u001b[38;5;21;01mmy_class\u001b[39;00m \u001b[38;5;28;01mimport\u001b[39;00m MyClass, MySecondClass\n\u001b[0;32m      3\u001b[0m \u001b[38;5;66;03m#a = MyClass()\u001b[39;00m\n\u001b[0;32m      4\u001b[0m \n\u001b[0;32m      5\u001b[0m \u001b[38;5;66;03m#print(a)\u001b[39;00m\n",
      "\u001b[1;31mModuleNotFoundError\u001b[0m: No module named 'my_class'"
     ]
    }
   ],
   "source": [
    "from my_class import MyClass, MySecondClass\n",
    "\n",
    "#a = MyClass()\n",
    "\n",
    "#print(a)"
   ]
  },
  {
   "cell_type": "markdown",
   "metadata": {},
   "source": [
    "- потрібно перезавантажувати імпорти для того щоб наш клас був оновлений"
   ]
  },
  {
   "cell_type": "code",
   "execution_count": null,
   "metadata": {},
   "outputs": [
    {
     "ename": "ModuleNotFoundError",
     "evalue": "No module named 'my_class'",
     "output_type": "error",
     "traceback": [
      "\u001b[1;31m---------------------------------------------------------------------------\u001b[0m",
      "\u001b[1;31mModuleNotFoundError\u001b[0m                       Traceback (most recent call last)",
      "Cell \u001b[1;32mIn[3], line 2\u001b[0m\n\u001b[0;32m      1\u001b[0m \u001b[38;5;28;01mimport\u001b[39;00m \u001b[38;5;21;01mimportlib\u001b[39;00m\n\u001b[1;32m----> 2\u001b[0m \u001b[38;5;28;01mimport\u001b[39;00m \u001b[38;5;21;01mmy_class\u001b[39;00m\n\u001b[0;32m      4\u001b[0m importlib\u001b[38;5;241m.\u001b[39mreload(my_class)\n",
      "\u001b[1;31mModuleNotFoundError\u001b[0m: No module named 'my_class'"
     ]
    }
   ],
   "source": [
    "import importlib\n",
    "import my_class\n",
    "\n",
    "importlib.reload(my_class)"
   ]
  },
  {
   "cell_type": "code",
   "execution_count": null,
   "metadata": {},
   "outputs": [],
   "source": [
    "#b = my_class.MyClass()\n",
    "#print(b)"
   ]
  },
  {
   "cell_type": "markdown",
   "metadata": {},
   "source": [
    "### Термінології\n",
    "- функція взначена в середині класу наивається `методом`;\n",
    "- один з методів є особливим і називається `конструктором`;\n",
    "- існують також альтернативні коструктори, так звані класові методи;\n",
    "- в класах зʼявляється змінна `self` - вказівник на обʼєкт;\n",
    "- в середині класу є 2 типи змінних - класові змінні та атрибути класу;\n",
    "- існують так звані магічні методи, і всі вони мають подвіне підкреслення на початку і в кінці\n",
    "- Існують змінні та методи які не починаються з підкреслення `_` або `__` - з такими значеннями робите що хочете і вони називаються публічними, якщо вже зявляється одинарне підкреслення `_` вони є захищеними і бажано їх не міняти, але ми можемо це робити. З подвійним підкресленням `__` називаються приватними і їх вже змінювати не можна."
   ]
  },
  {
   "cell_type": "code",
   "execution_count": null,
   "metadata": {},
   "outputs": [
    {
     "name": "stdout",
     "output_type": "stream",
     "text": [
      "Викликали конструктор!\n",
      "Завершили присвоєння атрибутів\n",
      "Викликали конструктор!\n",
      "Завершили присвоєння атрибутів\n",
      "MyClass(Ніяких аргументів не переаємо)\n",
      "MyClass(Ніяких аргументів не переаємо)\n",
      "3\n",
      "Це буде клас для експериментів.\n",
      "    Його використовуємо для лаб роботи №3\n",
      "\n",
      "    ---\n",
      "    Attributes:\n",
      "    surname: Прізвище\n",
      "    name: Імя\n",
      "\n",
      "     Це буде клас для експериментів.\n",
      "    Його використовуємо для лаб роботи №3\n",
      "\n",
      "    ---\n",
      "    Attributes:\n",
      "    surname: Прізвище\n",
      "    name: Імя\n",
      "\n",
      "    \n",
      "Так ніколи не буде\n",
      "None\n",
      "True\n",
      "False\n",
      "Це змінювати не можна\n",
      "Це змінювати не можна\n"
     ]
    }
   ],
   "source": [
    "c = my_class.MyClass(\"Ббб\", \"Вввв\", 5)\n",
    "b = my_class.MyClass(\"Fdh\", \"Rgdf\", 5)\n",
    "\n",
    "print(c.__repr__()) # представлення обєкту\n",
    "print(c.__str__()) # стрічкове представлення обєкту\n",
    "\n",
    "print(len(c))\n",
    "\n",
    "print(MyClass.__doc__, c.__doc__)\n",
    "\n",
    "if c == b:\n",
    "    print(\"Так ніколи не буде\")\n",
    "else:\n",
    "    print(\"Так\")\n",
    "\n",
    "print(c==\"1\")\n",
    "\n",
    "print(c._test_protected)\n",
    "c._test_protected = False\n",
    "print(c._test_protected)\n",
    "\n",
    "print(c.print_private_attributes())\n",
    "print(c._MyClass__do_not_touch)  # Виведе: Це змінювати не можна)\n"
   ]
  },
  {
   "cell_type": "code",
   "execution_count": null,
   "metadata": {},
   "outputs": [
    {
     "name": "stdout",
     "output_type": "stream",
     "text": [
      "Викликали конструктор!\n",
      "Завершили присвоєння атрибутів\n",
      "MyClass(Ніяких аргументів не переаємо)\n"
     ]
    }
   ],
   "source": [
    "c = my_class.MyClass(\"Б\", \"Б\", 5)\n",
    "print(c.__repr__())"
   ]
  },
  {
   "cell_type": "code",
   "execution_count": null,
   "metadata": {},
   "outputs": [
    {
     "name": "stdout",
     "output_type": "stream",
     "text": [
      "Студент Б Б отримав оцінку 5\n",
      "\n",
      "Студент G Y отримав оцінку 5\n",
      "\n"
     ]
    }
   ],
   "source": [
    "i = 1\n",
    "j = [1, \"1\"]\n",
    "d = {\"Прізвище\": [\"Б\", \"A\", \"G\", \"T\"], \n",
    "     \"Імя\": [\"Б\", \"Д\", \"Y\", \"D\"], \n",
    "     \"Оцінка\": [5, 4, 5, 3]}\n",
    "\n",
    "for i in range(len(d[\"Прізвище\"])):\n",
    "    print(f\"Студент {d[\"Прізвище\"][i]} {d[\"Імя\"][i]} отримав оцінку {d[\"Оцінка\"][i]}\" if d[\"Оцінка\"][i] == 5 else \"\")"
   ]
  },
  {
   "cell_type": "code",
   "execution_count": null,
   "metadata": {},
   "outputs": [
    {
     "name": "stdout",
     "output_type": "stream",
     "text": [
      "Викликали конструктор!\n",
      "Завершили присвоєння атрибутів\n",
      "Викликали конструктор!\n",
      "Завершили присвоєння атрибутів\n",
      "Викликали конструктор!\n",
      "Завершили присвоєння атрибутів\n",
      "Викликали конструктор!\n",
      "Завершили присвоєння атрибутів\n",
      "Студент Б Б отримав оцінку 5\n",
      "\n",
      "Студент G Y отримав оцінку 5\n",
      "\n",
      "\n",
      "Студент A Д отримав оцінку 4\n",
      "\n",
      "Студент T D отримав оцінку 4\n",
      "-1\n"
     ]
    }
   ],
   "source": [
    "Students = [my_class.MyClass(\"Б\", \"Б\", 5), \n",
    "     my_class.MyClass(\"A\", \"Д\", 4), \n",
    "     my_class.MyClass(\"G\", \"Y\", 5),\n",
    "     my_class.MyClass(\"T\", \"D\", 3) # тут ініціалізується обєкт та задаються атрибути\n",
    "     ]\n",
    "\n",
    "for i in Students:\n",
    "    print(f\"Студент {i.surname} {i.name} отримав оцінку {i.mark}\" if i.mark == 5 else \"\")\n",
    "\n",
    "Students[-1].mark = 4 # але ту ми можемо перевизначити атрибути!\n",
    "\n",
    "for i in Students:\n",
    "    print(f\"Студент {i.surname} {i.name} отримав оцінку {i.mark}\" if i.mark == 4 else \"\")\n",
    "\n",
    "Students[-1].penalty = -1 # динамічний атрибут\n",
    "\n",
    "print(Students[-1].penalty)"
   ]
  },
  {
   "cell_type": "markdown",
   "metadata": {},
   "source": [
    "### Атрибути та властивості\n",
    "- атрибути це дані про наш обєкт які можна змінювати\n",
    "- властивості - це дані які можна лише читати"
   ]
  },
  {
   "cell_type": "code",
   "execution_count": null,
   "metadata": {},
   "outputs": [
    {
     "name": "stdout",
     "output_type": "stream",
     "text": [
      "Викликали конструктор!\n",
      "Завершили присвоєння атрибутів\n",
      "Видалення обєкта\n",
      "5\n",
      "4\n",
      "Імя Прізвище\n",
      "зміна Модифікували\n",
      "Імя Прізвище\n",
      "ЗМІНА 5\n"
     ]
    }
   ],
   "source": [
    "from my_class import MyClass\n",
    "\n",
    "ss = MyClass(\"Прізвище\", \"Імя\", 5)\n",
    "\n",
    "print(ss.mark)\n",
    "ss.mark = 4\n",
    "# Атрибути можна змінвати і переприсвоювати\n",
    "print(ss.mark)\n",
    "# деколи бувають ситуації коли потрібно мати дані які не можна модифіковувати після створення обєкту\n",
    "print(ss.full_name)\n",
    "# зміна проперті буде давати помилку\n",
    "#ss.full_name = \"Модифіковане Імя\"\n",
    "\n",
    "ss.surname = \"Модифікували\"\n",
    "ss.name = \"зміна\"\n",
    "\n",
    "print(ss.full_name)\n",
    "# Хоча перший варіат було переписано/можифіковано, у правильному використанні\n",
    "# переприсвоювати Властивості не бажано\n",
    "print(ss.full_name_protected)\n",
    "\n",
    "\n",
    "print(ss.name_uppercase, ss.count_name)"
   ]
  },
  {
   "cell_type": "code",
   "execution_count": null,
   "metadata": {},
   "outputs": [
    {
     "name": "stdout",
     "output_type": "stream",
     "text": [
      "2024-11-12 09:18:43.402141\n"
     ]
    }
   ],
   "source": [
    "print(ss._created)"
   ]
  },
  {
   "cell_type": "code",
   "execution_count": null,
   "metadata": {},
   "outputs": [
    {
     "name": "stdout",
     "output_type": "stream",
     "text": [
      "Викликали конструктор!\n",
      "Завершили присвоєння атрибутів\n"
     ]
    }
   ],
   "source": []
  },
  {
   "cell_type": "code",
   "execution_count": null,
   "metadata": {},
   "outputs": [
    {
     "name": "stdout",
     "output_type": "stream",
     "text": [
      "Викликали конструктор!\n",
      "Завершили присвоєння атрибутів\n",
      "5\n",
      "Видалення обєкта\n",
      "4\n"
     ]
    }
   ],
   "source": [
    "_ = MyClass(\"Наступний\", \"Студент\", 3)\n",
    "print(ss.total_students)\n",
    "del _\n",
    "print(MyClass.total_students)"
   ]
  },
  {
   "cell_type": "markdown",
   "metadata": {},
   "source": [
    "\n",
    "### Методи, статичні методи та змінні self\n",
    "- методи можуть бути викликані з об'єкту АБО з класу передавши об'єкт\n",
    "- `self` - вказівник на об'єкт, завжди виступає першою змінною у методах класу. При виклику методу клау з об'єкта, self неявно присвоюється самому об'єкту\n",
    "- `self` - коли ми маємо виклик з класу то присвоєння є явним і ми маємо передати перший аргумент який є об'єктом\n",
    "- існують методи яким не потрібен об'єкт, тобто це дії які не впливають на об'єкт або не працюють з його атрибутами\n",
    "- такий може бути створений, але це трохи неправильно (Чат просто хоче його виправити, бо він буде некоректно працювати з об'єктом)\n",
    "- методи без посилання на об'єкт називаються статичними методами, потребують при створенні використання декоратора `staticmethod`"
   ]
  },
  {
   "cell_type": "code",
   "execution_count": null,
   "metadata": {},
   "outputs": [
    {
     "name": "stdout",
     "output_type": "stream",
     "text": [
      "Викликали конструктор!\n",
      "Завершили присвоєння атрибутів\n",
      "Відповідь без оцінки\n",
      "Початкова оцінка: 3\n",
      "Успішно відповів на питання, та отримав оцінку 4\n",
      "Оцінка після відповіді: 4\n",
      "Успішно відповів на питання, та отримав оцінку 5\n",
      "(Виклик з класу) Оцінка після відповіді: 5\n",
      "Проспав, то сплю далі\n",
      "Запізнився на пару і мене записали на вході!\n",
      "Запізнився на пару і мене записали на вході!\n"
     ]
    }
   ],
   "source": [
    "from my_class import MyClass\n",
    "\n",
    "B = MyClass (\"Метод\", \"Студент\", 3)\n",
    "\n",
    "B.answer_question()\n",
    "print(f\"Початкова оцінка: {B.mark}\")\n",
    "B.answer_question(4)\n",
    "print(f\"Оцінка після відповіді: {B.mark}\")\n",
    "\n",
    "MyClass.answer_question(B, 5) # явне передача об'єкту з метод\n",
    "print(f\"(Виклик з класу) Оцінка після відповіді: {B.mark}\")\n",
    "\n",
    "# Ми можемо викликати цей метод з класу але не з об'єкта\n",
    "MyClass.sleep()\n",
    "\n",
    "# Коли зробили статичний метод, можемо використовувати його з об'єкта та з класу\n",
    "print(\"Виклик з об'єкту\")\n",
    "B.late()\n",
    "print(\"Виклик з класу\")\n",
    "MyClass.late()"
   ]
  },
  {
   "cell_type": "markdown",
   "metadata": {},
   "source": [
    "### Альтернативні конструктори"
   ]
  },
  {
   "cell_type": "code",
   "execution_count": null,
   "metadata": {},
   "outputs": [
    {
     "name": "stdout",
     "output_type": "stream",
     "text": [
      "Викликали конструктор!\n",
      "Завершили присвоєння атрибутів\n",
      "Видалення обєкта\n",
      "----------\n",
      "Створюємо студента без оцінки, задавши дефолтне значення 0\n",
      "Викликали конструктор!\n",
      "Завершили присвоєння атрибутів\n",
      "Видалення обєкта\n",
      "Викликали конструктор!\n",
      "Завершили присвоєння атрибутів\n"
     ]
    },
    {
     "data": {
      "text/plain": [
       "'Метод'"
      ]
     },
     "execution_count": 22,
     "metadata": {},
     "output_type": "execute_result"
    }
   ],
   "source": [
    "from my_class import MyClass\n",
    "# При створенні об'єкта ми повинні передати всі його аргументи\n",
    "C = B = MyClass (\"Метод\", \"Студент\", 0)\n",
    "print(10 * \"-\")\n",
    "# Однак ми визначили альтернативний конструктор, який значення mark буде задавати 0\n",
    "D = MyClass.student_base(\"Метод\", \"Студент\")\n",
    "\n",
    "E = MyClass.student_full_name(\"Метод Студент\")\n",
    "\n",
    "C.mark == D.mark\n",
    "\n",
    "E.surname"
   ]
  }
 ],
 "metadata": {
  "kernelspec": {
   "display_name": "Python 3",
   "language": "python",
   "name": "python3"
  },
  "language_info": {
   "codemirror_mode": {
    "name": "ipython",
    "version": 3
   },
   "file_extension": ".py",
   "mimetype": "text/x-python",
   "name": "python",
   "nbconvert_exporter": "python",
   "pygments_lexer": "ipython3",
   "version": "3.12.5"
  }
 },
 "nbformat": 4,
 "nbformat_minor": 2
}
